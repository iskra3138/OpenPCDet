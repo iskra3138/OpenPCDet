{
 "cells": [
  {
   "cell_type": "code",
   "execution_count": 1,
   "id": "202ce7a9",
   "metadata": {},
   "outputs": [],
   "source": [
    "import laspy\n",
    "import glob, os\n",
    "import numpy as np\n",
    "import matplotlib.pyplot as plt\n",
    "%matplotlib inline"
   ]
  },
  {
   "cell_type": "code",
   "execution_count": 2,
   "id": "0fe68039",
   "metadata": {},
   "outputs": [],
   "source": [
    "kitti_files = glob.glob('/nas2/YJ/DATA/kitti/training/velodyne/*.bin')"
   ]
  },
  {
   "cell_type": "code",
   "execution_count": 3,
   "id": "b74acd32",
   "metadata": {},
   "outputs": [
    {
     "data": {
      "text/plain": [
       "7481"
      ]
     },
     "execution_count": 3,
     "metadata": {},
     "output_type": "execute_result"
    }
   ],
   "source": [
    "len(kitti_files)"
   ]
  },
  {
   "cell_type": "code",
   "execution_count": 4,
   "id": "b16a7cb3",
   "metadata": {},
   "outputs": [
    {
     "data": {
      "text/plain": [
       "\"\\n POINT_CLOUD_RANGE: [0, -40, -3, 70.4, 40, 1]\\n   - NAME: transform_points_to_voxels\\n      VOXEL_SIZE: [0.05, 0.05, 0.1]\\n      MAX_POINTS_PER_VOXEL: 5\\n      MAX_NUMBER_OF_VOXELS: {\\n        'train': 16000,\\n        'test': 40000\\n      }\\n\""
      ]
     },
     "execution_count": 4,
     "metadata": {},
     "output_type": "execute_result"
    }
   ],
   "source": [
    "# This is the config in kitti_dataset.yaml\n",
    "# https://github.com/open-mmlab/OpenPCDet/blob/master/tools/cfgs/dataset_configs/kitti_dataset.yaml\n",
    "'''\n",
    " POINT_CLOUD_RANGE: [0, -40, -3, 70.4, 40, 1]\n",
    "   - NAME: transform_points_to_voxels\n",
    "      VOXEL_SIZE: [0.05, 0.05, 0.1]\n",
    "      MAX_POINTS_PER_VOXEL: 5\n",
    "      MAX_NUMBER_OF_VOXELS: {\n",
    "        'train': 16000,\n",
    "        'test': 40000\n",
    "      }\n",
    "'''"
   ]
  },
  {
   "cell_type": "code",
   "execution_count": 5,
   "id": "6cfe5da1",
   "metadata": {},
   "outputs": [
    {
     "name": "stdout",
     "output_type": "stream",
     "text": [
      "70.4m, 80m and 4m of lidar ==> 1408px, 1600px and 40px of 3D voxel ==> 90112000 locations\n"
     ]
    }
   ],
   "source": [
    "# if voxel size is 0.16m, psuedo image be 375*375(60/0.16)\n",
    "x_voxel_size = 0.05\n",
    "y_voxel_size = 0.05\n",
    "z_voxel_size = 0.1\n",
    "x_range_min = 0.0\n",
    "x_range_max = 70.4\n",
    "y_range_min = -40\n",
    "y_range_max = 40\n",
    "z_range_min = -3\n",
    "z_range_max = 1\n",
    "x_size = int((x_range_max-x_range_min)/x_voxel_size)\n",
    "y_size = int((y_range_max-y_range_min)/y_voxel_size)\n",
    "z_size = int((z_range_max-z_range_min)/z_voxel_size)\n",
    "voxel = np.zeros((x_size, y_size, z_size))\n",
    "print ('{}m, {}m and {}m of lidar ==> {}px, {}px and {}px of 3D voxel ==> {} locations'.format(\n",
    "    x_range_max-x_range_min,\n",
    "    y_range_max-y_range_min,\n",
    "    z_range_max-z_range_min,\n",
    "    voxel.shape[0],\n",
    "    voxel.shape[1],\n",
    "    voxel.shape[2],\n",
    "    voxel.shape[0]*voxel.shape[1]*voxel.shape[2]\n",
    "    ))"
   ]
  },
  {
   "cell_type": "code",
   "execution_count": 6,
   "id": "4905e262-b522-49cd-932c-a03292d4c4e4",
   "metadata": {},
   "outputs": [
    {
     "name": "stdout",
     "output_type": "stream",
     "text": [
      "####################################################################################################\n",
      "file:  /nas2/YJ/DATA/kitti/training/velodyne/005596.bin\n",
      "num_of_points: 111678\n",
      "range_of_x: -77.76899719238281 to 79.96499633789062\n",
      "range_of_y: -75.26399993896484 to 77.86599731445312\n",
      "range_of_z: -17.292999267578125 to 2.878000020980835\n",
      "non-zero_voxels: 36626 voxel\n",
      "non-zero_ratio: 0.04 %\n",
      "####################################################################################################\n",
      "file:  /nas2/YJ/DATA/kitti/training/velodyne/003680.bin\n",
      "num_of_points: 124093\n",
      "range_of_x: -79.74800109863281 to 79.9260025024414\n",
      "range_of_y: -59.80099868774414 to 42.832000732421875\n",
      "range_of_z: -7.328000068664551 to 2.874000072479248\n",
      "non-zero_voxels: 50227 voxel\n",
      "non-zero_ratio: 0.06 %\n",
      "####################################################################################################\n",
      "file:  /nas2/YJ/DATA/kitti/training/velodyne/004997.bin\n",
      "num_of_points: 123880\n",
      "range_of_x: -79.86399841308594 to 78.322998046875\n",
      "range_of_y: -54.66600036621094 to 37.143001556396484\n",
      "range_of_z: -4.927999973297119 to 2.867000102996826\n",
      "non-zero_voxels: 41793 voxel\n",
      "non-zero_ratio: 0.05 %\n",
      "####################################################################################################\n",
      "file:  /nas2/YJ/DATA/kitti/training/velodyne/003298.bin\n",
      "num_of_points: 110848\n",
      "range_of_x: -74.31700134277344 to 77.91899871826172\n",
      "range_of_y: -33.87099838256836 to 74.69499969482422\n",
      "range_of_z: -17.65399932861328 to 2.88700008392334\n",
      "non-zero_voxels: 36191 voxel\n",
      "non-zero_ratio: 0.04 %\n",
      "####################################################################################################\n",
      "file:  /nas2/YJ/DATA/kitti/training/velodyne/001919.bin\n",
      "num_of_points: 114472\n",
      "range_of_x: -71.61499786376953 to 79.4749984741211\n",
      "range_of_y: -30.75 to 13.824999809265137\n",
      "range_of_z: -17.410999298095703 to 2.9049999713897705\n",
      "non-zero_voxels: 34934 voxel\n",
      "non-zero_ratio: 0.04 %\n",
      "####################################################################################################\n",
      "file:  /nas2/YJ/DATA/kitti/training/velodyne/005916.bin\n",
      "num_of_points: 118616\n",
      "range_of_x: -78.78700256347656 to 78.38700103759766\n",
      "range_of_y: -75.88400268554688 to 73.09600067138672\n",
      "range_of_z: -11.409000396728516 to 2.9079999923706055\n",
      "non-zero_voxels: 43624 voxel\n",
      "non-zero_ratio: 0.05 %\n",
      "####################################################################################################\n",
      "file:  /nas2/YJ/DATA/kitti/training/velodyne/003732.bin\n",
      "num_of_points: 120663\n",
      "range_of_x: -79.58399963378906 to 78.71099853515625\n",
      "range_of_y: -70.4800033569336 to 75.5479965209961\n",
      "range_of_z: -27.107999801635742 to 2.9119999408721924\n",
      "non-zero_voxels: 43727 voxel\n",
      "non-zero_ratio: 0.05 %\n",
      "####################################################################################################\n",
      "file:  /nas2/YJ/DATA/kitti/training/velodyne/001586.bin\n",
      "num_of_points: 127225\n",
      "range_of_x: -68.29499816894531 to 79.54000091552734\n",
      "range_of_y: -73.88099670410156 to 35.029998779296875\n",
      "range_of_z: -5.681000232696533 to 2.9110000133514404\n",
      "non-zero_voxels: 39550 voxel\n",
      "non-zero_ratio: 0.04 %\n",
      "####################################################################################################\n",
      "file:  /nas2/YJ/DATA/kitti/training/velodyne/004635.bin\n",
      "num_of_points: 119253\n",
      "range_of_x: -79.29499816894531 to 79.07499694824219\n",
      "range_of_y: -79.8949966430664 to 75.06600189208984\n",
      "range_of_z: -24.78700065612793 to 2.8980000019073486\n",
      "non-zero_voxels: 38452 voxel\n",
      "non-zero_ratio: 0.04 %\n",
      "####################################################################################################\n",
      "file:  /nas2/YJ/DATA/kitti/training/velodyne/001732.bin\n",
      "num_of_points: 124307\n",
      "range_of_x: -79.85399627685547 to 79.28900146484375\n",
      "range_of_y: -79.90599822998047 to 79.90699768066406\n",
      "range_of_z: -4.890999794006348 to 2.9119999408721924\n",
      "non-zero_voxels: 46302 voxel\n",
      "non-zero_ratio: 0.05 %\n",
      "average number of non_zeros: 41142.60\n"
     ]
    }
   ],
   "source": [
    "idxes = np.random.randint(len(kitti_files), size=10)\n",
    "voxels=[]\n",
    "non_zeros=[]\n",
    "for idx in idxes :\n",
    "    print (100*'#')\n",
    "    print ('file: ', kitti_files[idx])\n",
    "    points = np.fromfile(kitti_files[idx], dtype=np.float32).reshape(-1, 4)\n",
    "    print ('num_of_points: {}'.format(points.shape[0]))\n",
    "    print ('range_of_x: {} to {}'.format(min(points[:,0]), max(points[:,0])))\n",
    "    print ('range_of_y: {} to {}'.format(min(points[:,1]), max(points[:,1])))\n",
    "    print ('range_of_z: {} to {}'.format(min(points[:,2]), max(points[:,2])))\n",
    "    voxel = np.zeros((x_size, y_size, z_size))\n",
    "    for point in points :\n",
    "        if x_range_min <= point[0] <= x_range_max \\\n",
    "        and y_range_min <= point[1] <= y_range_max \\\n",
    "        and z_range_min <= point[2] <= z_range_max:\n",
    "            r = int((point[0]-x_range_min)//x_voxel_size)\n",
    "            c = int((point[1]-y_range_min)//y_voxel_size)\n",
    "            d = int((point[2]-z_range_min)//z_voxel_size)\n",
    "            voxel[r,c,d] +=1\n",
    "    voxels.append(voxel)\n",
    "    non_x, non_y, non_z = np.where(voxel != 0)\n",
    "    non_zeros.append(non_x.shape[0])\n",
    "    print ('non-zero_voxels: {} voxel'.format(non_x.shape[0]))\n",
    "    print ('non-zero_ratio: {:.2f} %'.format(100* (non_x.shape[0]/(voxel.shape[0] * voxel.shape[1] * voxel.shape[2]))))\n",
    "print ('average number of non_zeros: {:.2f}'.format(sum(non_zeros)/10.0))"
   ]
  },
  {
   "cell_type": "code",
   "execution_count": 8,
   "id": "c5948c53-c0d5-498f-8747-c8e3a1d91831",
   "metadata": {},
   "outputs": [
    {
     "name": "stdout",
     "output_type": "stream",
     "text": [
      "average number of non_zeros: 39959.42\n",
      "averae ratio of non_zeros: 0.04\n"
     ]
    }
   ],
   "source": [
    "non_zeros = []\n",
    "for idx in range(len(kitti_files)) :\n",
    "    points = np.fromfile(kitti_files[idx], dtype=np.float32).reshape(-1, 4)\n",
    "    voxel = np.zeros((x_size, y_size, z_size))\n",
    "    for point in points :\n",
    "        if x_range_min < point[0] < x_range_max \\\n",
    "        and y_range_min < point[1] < y_range_max \\\n",
    "        and z_range_min < point[2] < z_range_max:\n",
    "            r = int((point[0]-x_range_min)//x_voxel_size)\n",
    "            c = int((point[1]-y_range_min)//y_voxel_size)\n",
    "            d = int((point[2]-z_range_min)//z_voxel_size)\n",
    "            voxel[r,c,d] +=1\n",
    "    non_x, non_y, non_z = np.where(voxel != 0)\n",
    "    non_zeros.append(non_x.shape[0])\n",
    "print ('average number of non_zeros: {:.2f}'.format(sum(non_zeros)/len(kitti_files)))\n",
    "print ('averae ratio of non_zeros: {:.2f}'.format(100*(sum(non_zeros)/len(kitti_files))/(voxel.shape[0] * voxel.shape[1] * voxel.shape[2])))"
   ]
  },
  {
   "cell_type": "code",
   "execution_count": 9,
   "id": "9cad306e-405d-4c06-a0fc-c731918cf4b5",
   "metadata": {},
   "outputs": [
    {
     "name": "stdout",
     "output_type": "stream",
     "text": [
      "average number of non_zeros: 39949.22\n",
      "averae ratio of non_zeros: 0.04\n"
     ]
    }
   ],
   "source": [
    "non_zeros = []\n",
    "for idx in range(len(kitti_files)) :\n",
    "    points = np.fromfile(kitti_files[idx], dtype=np.float32).reshape(-1, 4)\n",
    "    voxel = np.zeros((x_size, y_size, z_size))\n",
    "    for point in points :\n",
    "        if x_range_min < point[0] < x_range_max \\\n",
    "        and y_range_min < point[1] < y_range_max \\\n",
    "        and z_range_min < point[2] < z_range_max:\n",
    "            r = int((point[0]-x_range_min)//x_voxel_size)\n",
    "            c = int((point[1]-y_range_min)//y_voxel_size)\n",
    "            d = int((point[2]-z_range_min)//z_voxel_size)\n",
    "            voxel[r,c,d] +=1\n",
    "    non_x, non_y, non_z = np.where(voxel != 0)\n",
    "    non_zeros.append(non_x.shape[0])\n",
    "print ('average number of non_zeros: {:.2f}'.format(sum(non_zeros)/len(kitti_files)))\n",
    "print ('averae ratio of non_zeros: {:.2f}'.format(100*(sum(non_zeros)/len(kitti_files))/(voxel.shape[0] * voxel.shape[1] * voxel.shape[2])))"
   ]
  },
  {
   "cell_type": "code",
   "execution_count": null,
   "id": "f11b4f03-4c7a-4268-88ba-b59385301759",
   "metadata": {},
   "outputs": [],
   "source": []
  }
 ],
 "metadata": {
  "kernelspec": {
   "display_name": "Python 3 (ipykernel)",
   "language": "python",
   "name": "python3"
  },
  "language_info": {
   "codemirror_mode": {
    "name": "ipython",
    "version": 3
   },
   "file_extension": ".py",
   "mimetype": "text/x-python",
   "name": "python",
   "nbconvert_exporter": "python",
   "pygments_lexer": "ipython3",
   "version": "3.8.12"
  }
 },
 "nbformat": 4,
 "nbformat_minor": 5
}
