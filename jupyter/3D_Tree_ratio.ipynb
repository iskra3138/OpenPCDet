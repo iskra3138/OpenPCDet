{
 "cells": [
  {
   "cell_type": "code",
   "execution_count": 35,
   "id": "202ce7a9",
   "metadata": {},
   "outputs": [],
   "source": [
    "import laspy\n",
    "import glob, os\n",
    "import numpy as np\n",
    "from PIL import Image\n",
    "import matplotlib.pyplot as plt\n",
    "%matplotlib inline"
   ]
  },
  {
   "cell_type": "code",
   "execution_count": 42,
   "id": "0fe68039",
   "metadata": {},
   "outputs": [],
   "source": [
    "tree_files = glob.glob('/nas2/YJ/DATA/tree_normalized//training/velodyne/*.las')"
   ]
  },
  {
   "cell_type": "code",
   "execution_count": 43,
   "id": "b74acd32",
   "metadata": {},
   "outputs": [
    {
     "data": {
      "text/plain": [
       "319"
      ]
     },
     "execution_count": 43,
     "metadata": {},
     "output_type": "execute_result"
    }
   ],
   "source": [
    "len(tree_files)"
   ]
  },
  {
   "cell_type": "code",
   "execution_count": 44,
   "id": "c550375c-52ac-4bc7-b1ab-59ba20b96032",
   "metadata": {},
   "outputs": [
    {
     "data": {
      "text/plain": [
       "\"\\n POINT_CLOUD_RANGE: [0, -40, -3, 70.4, 40, 1]\\n   - NAME: transform_points_to_voxels\\n      VOXEL_SIZE: [0.05, 0.05, 0.1]\\n      MAX_POINTS_PER_VOXEL: 5\\n      MAX_NUMBER_OF_VOXELS: {\\n        'train': 16000,\\n        'test': 40000\\n      }\\n\""
      ]
     },
     "execution_count": 44,
     "metadata": {},
     "output_type": "execute_result"
    }
   ],
   "source": [
    "# This is the config in kitti_dataset.yaml\n",
    "# https://github.com/open-mmlab/OpenPCDet/blob/master/tools/cfgs/dataset_configs/kitti_dataset.yaml\n",
    "'''\n",
    " POINT_CLOUD_RANGE: [0, -40, -3, 70.4, 40, 1]\n",
    "   - NAME: transform_points_to_voxels\n",
    "      VOXEL_SIZE: [0.05, 0.05, 0.1]\n",
    "      MAX_POINTS_PER_VOXEL: 5\n",
    "      MAX_NUMBER_OF_VOXELS: {\n",
    "        'train': 16000,\n",
    "        'test': 40000\n",
    "      }\n",
    "'''"
   ]
  },
  {
   "cell_type": "code",
   "execution_count": 47,
   "id": "e443c07c-8e58-42cc-9b22-bfb7b3fde771",
   "metadata": {},
   "outputs": [
    {
     "name": "stdout",
     "output_type": "stream",
     "text": [
      "60.0m, 60.0m and 32.0m of lidar ==> 1600px, 1600px and 40px of 3D voxel ==> 102400000 locations\n"
     ]
    }
   ],
   "source": [
    "# if voxel size is 0.16m, psuedo image be 375*375(60/0.16)\n",
    "x_voxel_size = 0.0375\n",
    "y_voxel_size = 0.0375\n",
    "z_voxel_size = 0.8\n",
    "x_range_min = -30.0\n",
    "x_range_max = 30.0\n",
    "y_range_min = -30.0\n",
    "y_range_max = 30.0\n",
    "z_range_min = 0.0\n",
    "z_range_max = 32.0\n",
    "normalized_value = 0.0\n",
    "\n",
    "x_size = int((x_range_max-x_range_min)/x_voxel_size)\n",
    "y_size = int((y_range_max-y_range_min)/y_voxel_size)\n",
    "z_size = int((z_range_max-z_range_min)/z_voxel_size)\n",
    "voxel = np.zeros((x_size, y_size, z_size))\n",
    "print ('{}m, {}m and {}m of lidar ==> {}px, {}px and {}px of 3D voxel ==> {} locations'.format(\n",
    "    x_range_max-x_range_min,\n",
    "    y_range_max-y_range_min,\n",
    "    z_range_max-z_range_min,\n",
    "    voxel.shape[0],\n",
    "    voxel.shape[1],\n",
    "    voxel.shape[2],\n",
    "    voxel.shape[0]*voxel.shape[1]*voxel.shape[2]\n",
    "    ))"
   ]
  },
  {
   "cell_type": "code",
   "execution_count": 48,
   "id": "5a7ab0e9-53d0-4ff7-8eab-bcf42968b858",
   "metadata": {},
   "outputs": [
    {
     "name": "stdout",
     "output_type": "stream",
     "text": [
      "####################################################################################################\n",
      "file:  /nas2/YJ/DATA/tree_normalized//training/velodyne/T413.las\n",
      "num_of_points: 604746\n",
      "range_of_x: -30.01 to 30.009999999999998\n",
      "range_of_y: -30.01 to 30.009999999999998\n",
      "range_of_z: -1.47 to 15.11\n",
      "non-zero_voxels: 469982 voxel\n",
      "non-zero_ratio: 0.46 %\n",
      "####################################################################################################\n",
      "file:  /nas2/YJ/DATA/tree_normalized//training/velodyne/T1027.las\n",
      "num_of_points: 493428\n",
      "range_of_x: -30.01 to 30.009999999999998\n",
      "range_of_y: -30.01 to 30.009999999999998\n",
      "range_of_z: -1.87 to 11.57\n",
      "non-zero_voxels: 429672 voxel\n",
      "non-zero_ratio: 0.42 %\n",
      "####################################################################################################\n",
      "file:  /nas2/YJ/DATA/tree_normalized//training/velodyne/T1026.las\n",
      "num_of_points: 629296\n",
      "range_of_x: -30.01 to 30.009999999999998\n",
      "range_of_y: -30.01 to 30.009999999999998\n",
      "range_of_z: -0.36 to 13.18\n",
      "non-zero_voxels: 512882 voxel\n",
      "non-zero_ratio: 0.50 %\n",
      "####################################################################################################\n",
      "file:  /nas2/YJ/DATA/tree_normalized//training/velodyne/T663.las\n",
      "num_of_points: 655784\n",
      "range_of_x: -30.01 to 30.009999999999998\n",
      "range_of_y: -30.01 to 30.009999999999998\n",
      "range_of_z: -1.25 to 16.65\n",
      "non-zero_voxels: 564150 voxel\n",
      "non-zero_ratio: 0.55 %\n",
      "####################################################################################################\n",
      "file:  /nas2/YJ/DATA/tree_normalized//training/velodyne/T433.las\n",
      "num_of_points: 95113\n",
      "range_of_x: -30.01 to 30.009999999999998\n",
      "range_of_y: -30.01 to 29.990000000000002\n",
      "range_of_z: -0.49 to 24.17\n",
      "non-zero_voxels: 91070 voxel\n",
      "non-zero_ratio: 0.09 %\n",
      "####################################################################################################\n",
      "file:  /nas2/YJ/DATA/tree_normalized//training/velodyne/T623.las\n",
      "num_of_points: 534848\n",
      "range_of_x: -30.01 to 30.009999999999998\n",
      "range_of_y: -30.01 to 30.009999999999998\n",
      "range_of_z: -0.24 to 11.98\n",
      "non-zero_voxels: 458930 voxel\n",
      "non-zero_ratio: 0.45 %\n",
      "####################################################################################################\n",
      "file:  /nas2/YJ/DATA/tree_normalized//training/velodyne/T774.las\n",
      "num_of_points: 578412\n",
      "range_of_x: -30.01 to 30.009999999999998\n",
      "range_of_y: -30.01 to 30.009999999999998\n",
      "range_of_z: -0.41000000000000003 to 10.03\n",
      "non-zero_voxels: 483645 voxel\n",
      "non-zero_ratio: 0.47 %\n",
      "####################################################################################################\n",
      "file:  /nas2/YJ/DATA/tree_normalized//training/velodyne/T907.las\n",
      "num_of_points: 457520\n",
      "range_of_x: -30.01 to 30.009999999999998\n",
      "range_of_y: -30.01 to 30.009999999999998\n",
      "range_of_z: -0.32 to 7.7\n",
      "non-zero_voxels: 394353 voxel\n",
      "non-zero_ratio: 0.39 %\n",
      "####################################################################################################\n",
      "file:  /nas2/YJ/DATA/tree_normalized//training/velodyne/T663.las\n",
      "num_of_points: 655784\n",
      "range_of_x: -30.01 to 30.009999999999998\n",
      "range_of_y: -30.01 to 30.009999999999998\n",
      "range_of_z: -1.25 to 16.65\n",
      "non-zero_voxels: 564150 voxel\n",
      "non-zero_ratio: 0.55 %\n",
      "####################################################################################################\n",
      "file:  /nas2/YJ/DATA/tree_normalized//training/velodyne/T426.las\n",
      "num_of_points: 559855\n",
      "range_of_x: -30.01 to 30.009999999999998\n",
      "range_of_y: -30.01 to 30.009999999999998\n",
      "range_of_z: -1.72 to 12.77\n",
      "non-zero_voxels: 471567 voxel\n",
      "non-zero_ratio: 0.46 %\n",
      "average number of non_zeros: 444040.10\n"
     ]
    }
   ],
   "source": [
    "idxes = np.random.randint(len(tree_files), size=10)\n",
    "voxels=[]\n",
    "non_zeros = []\n",
    "for idx in idxes :\n",
    "    print (100*'#')\n",
    "    print ('file: ', tree_files[idx])\n",
    "    lasfile = laspy.file.File(tree_files[idx], mode=\"r\")\n",
    "    points = np.vstack((lasfile.x-30, lasfile.y-30\n",
    "                         , lasfile.z-normalized_value)).transpose()\n",
    "    print ('num_of_points: {}'.format(points.shape[0]))\n",
    "    print ('range_of_x: {} to {}'.format(min(points[:,0]), max(points[:,0])))\n",
    "    print ('range_of_y: {} to {}'.format(min(points[:,1]), max(points[:,1])))\n",
    "    print ('range_of_z: {} to {}'.format(min(points[:,2]), max(points[:,2])))\n",
    "    voxel = np.zeros((x_size, y_size, z_size))\n",
    "    for point in points :\n",
    "        if x_range_min <= point[0] <= x_range_max \\\n",
    "        and y_range_min <= point[1] <= y_range_max \\\n",
    "        and z_range_min <= point[2] <= z_range_max:\n",
    "            r = int((point[0]-x_range_min - 0.0001)//x_voxel_size)\n",
    "            c = int((point[1]-y_range_min - 0.0001)//y_voxel_size)\n",
    "            d = int((point[2]-z_range_min - 0.0001)//z_voxel_size)\n",
    "            voxel[r,c,d] +=1\n",
    "    voxels.append(voxel)\n",
    "    non_x, non_y, non_z = np.where(voxel != 0)\n",
    "    non_zeros.append(non_x.shape[0])\n",
    "    print ('non-zero_voxels: {} voxel'.format(non_x.shape[0]))\n",
    "    print ('non-zero_ratio: {:.2f} %'.format(100* (non_x.shape[0]/(voxel.shape[0] * voxel.shape[1] * voxel.shape[2]))))\n",
    "print ('average number of non_zeros: {:.2f}'.format(sum(non_zeros)/10.0))"
   ]
  },
  {
   "cell_type": "code",
   "execution_count": 49,
   "id": "47e4e140-15ae-47aa-ab4c-d701f047af27",
   "metadata": {},
   "outputs": [
    {
     "name": "stdout",
     "output_type": "stream",
     "text": [
      "average number of non_zeros: 139256.98\n",
      "averae ratio of non_zeros: 0.14\n"
     ]
    }
   ],
   "source": [
    "non_zeros = []\n",
    "for idx in range(len(tree_files)) :\n",
    "    lasfile = laspy.file.File(tree_files[idx], mode=\"r\")\n",
    "    points = np.vstack((lasfile.x-30, lasfile.y-30\n",
    "                         , lasfile.z-normalized_value)).transpose()\n",
    "    voxel = np.zeros((x_size, y_size, z_size))\n",
    "    for point in points :\n",
    "        if x_range_min < point[0] < x_range_max \\\n",
    "        and y_range_min < point[1] < y_range_max \\\n",
    "        and z_range_min < point[2] < z_range_max:\n",
    "            r = int((point[0]-x_range_min)//x_voxel_size)\n",
    "            c = int((point[1]-y_range_min)//y_voxel_size)\n",
    "            d = int((point[2]-z_range_min)//z_voxel_size)\n",
    "            voxel[r,c,d] +=1\n",
    "    non_x, non_y, non_z = np.where(voxel != 0)\n",
    "    non_zeros.append(non_x.shape[0])\n",
    "print ('average number of non_zeros: {:.2f}'.format(sum(non_zeros)/len(tree_files)))\n",
    "print ('averae ratio of non_zeros: {:.2f}'.format(100*(sum(non_zeros)/len(tree_files))/(voxel.shape[0] * voxel.shape[1] * voxel.shape[2])))"
   ]
  }
 ],
 "metadata": {
  "kernelspec": {
   "display_name": "Python 3 (ipykernel)",
   "language": "python",
   "name": "python3"
  },
  "language_info": {
   "codemirror_mode": {
    "name": "ipython",
    "version": 3
   },
   "file_extension": ".py",
   "mimetype": "text/x-python",
   "name": "python",
   "nbconvert_exporter": "python",
   "pygments_lexer": "ipython3",
   "version": "3.8.12"
  }
 },
 "nbformat": 4,
 "nbformat_minor": 5
}
